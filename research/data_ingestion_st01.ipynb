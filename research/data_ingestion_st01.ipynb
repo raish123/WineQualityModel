{
 "cells": [
  {
   "cell_type": "code",
   "execution_count": 1,
   "metadata": {},
   "outputs": [],
   "source": [
    "from src.Wine.Utils import create_directory,read_yaml,download_data_from_s3\n",
    "from src.Wine.loggers import logger\n",
    "from src.Wine.Exception import CustomException\n",
    "from src.Wine.Constants import *\n",
    "import os,sys"
   ]
  },
  {
   "cell_type": "code",
   "execution_count": 2,
   "metadata": {},
   "outputs": [],
   "source": [
    "from pathlib import Path\n",
    "from dataclasses import dataclass\n",
    "#step3)update the entity file --->is nothing we r defining the class variable\n",
    "#which was used in yaml file and futhure taking rtn as function\n",
    "\n",
    "@dataclass\n",
    "class DataIngestionConfig():\n",
    "    #defining class variable along with dtypes\n",
    "    root_dir_path:Path\n",
    "    train_test_path: Path\n",
    "    Zip_local_dir_path: Path\n",
    "    unzip_dir_path: Path\n"
   ]
  },
  {
   "cell_type": "code",
   "execution_count": 3,
   "metadata": {},
   "outputs": [],
   "source": [
    "#step4)update the configurationmanager file which was present in src/config/configuration.py\n",
    "#In this file we are reading yaml file ,create directory and also \n",
    "#assigning the value to the class variable and taking rtn as function\n",
    "\n",
    "class ConfigurationManager():\n",
    "    #initializing the instance variable \n",
    "    def __init__(self,config_filepath=CONFIG_FILEPATH,param_filepath=PARAM_FILEPATH,schema_filepath=SCHEMA_FILEPATH):\n",
    "        #reading the yaml file\n",
    "        self.config = read_yaml(config_filepath) #rtn value as configdictatonary\n",
    "        self.param = read_yaml(param_filepath) #rtn value as configdictatonary\n",
    "        self.schema = read_yaml(schema_filepath) #rtn value as configdictatonary\n",
    "\n",
    "        #creating main directory in project structure\n",
    "        create_directory([self.config.artifacts_root]) #it will create artifact directory\n",
    "\n",
    "    #creating method to perform dataingestion\n",
    "    def data_ingestion(self) ->DataIngestionConfig:\n",
    "        #initializing local variable\n",
    "        config = self.config.data_ingestion #here we r accessing dataingestion block from yaml file\n",
    "\n",
    "        #creating dataingestion root_dir_path\n",
    "        create_directory([config.root_dir_path])\n",
    "\n",
    "        #creating an object of DataIngestionConfig class and initialize class variable value to it \n",
    "        data_ingestion_config = DataIngestionConfig(\n",
    "            root_dir_path=config.root_dir_path,\n",
    "            train_test_path=config.train_test_path,\n",
    "            Zip_local_dir_path=config.Zip_local_dir_path,\n",
    "            unzip_dir_path=config.unzip_dir_path\n",
    "        )\n",
    "        return data_ingestion_config\n"
   ]
  },
  {
   "cell_type": "code",
   "execution_count": 4,
   "metadata": {},
   "outputs": [],
   "source": [
    "import pandas as pd\n",
    "from sklearn.model_selection import train_test_split"
   ]
  },
  {
   "cell_type": "code",
   "execution_count": 5,
   "metadata": {},
   "outputs": [],
   "source": [
    "#step5)update the components files!!! in this file \n",
    "class DataIngestion():\n",
    "    #constructor method initialize the class variable to object\n",
    "    def __init__(self,ingestionconfig:DataIngestionConfig):\n",
    "        self.ingestionconfig = ingestionconfig\n",
    "\n",
    "        download_data_from_s3(unzip_dir_path=self.ingestionconfig.unzip_dir_path,local_dir_path=self.ingestionconfig.Zip_local_dir_path)\n",
    "    \n",
    "    def train_test_data(self):\n",
    "        raw_data = self.ingestionconfig.unzip_dir_path\n",
    "\n",
    "        # Assuming raw_data_path is a directory containing the CSV file(s)\n",
    "        raw_data_file = os.path.join(raw_data, 'WineQT.csv')\n",
    "\n",
    "        logger.info(f\"Loading the csv file {raw_data_file}\")\n",
    "\n",
    "        df_raw = pd.read_csv(raw_data_file)\n",
    "\n",
    "        logger.info(f\"splitting the Raw dataset\")\n",
    "\n",
    "        train_df,test_df = train_test_split(df_raw,test_size=0.2,random_state=42)\n",
    "\n",
    "        #saving training and testing data\n",
    "        train_df.to_csv(os.path.join(self.ingestionconfig.train_test_path,\"train.csv\"))\n",
    "        test_df.to_csv(os.path.join(self.ingestionconfig.train_test_path,\"test.csv\"))\n",
    "\n"
   ]
  },
  {
   "cell_type": "code",
   "execution_count": 6,
   "metadata": {},
   "outputs": [
    {
     "data": {
      "text/plain": [
       "'d:\\\\Wine_ML_AlGO\\\\WineQualityModel'"
      ]
     },
     "execution_count": 6,
     "metadata": {},
     "output_type": "execute_result"
    }
   ],
   "source": [
    "os.chdir('../')\n",
    "%pwd"
   ]
  },
  {
   "cell_type": "code",
   "execution_count": 7,
   "metadata": {},
   "outputs": [
    {
     "name": "stdout",
     "output_type": "stream",
     "text": [
      "[2024-09-26 21:23:38,893]-33-Reading yaml file config\\config.yaml\n",
      "[2024-09-26 21:23:38,915]-33-Reading yaml file param.yaml\n",
      "[2024-09-26 21:23:38,918]-33-Reading yaml file schema.yaml\n",
      "[2024-09-26 21:23:38,925]-46-Creating Directory\n",
      "[2024-09-26 21:23:38,941]-50-Directory artifacts created\n",
      "[2024-09-26 21:23:38,943]-46-Creating Directory\n",
      "[2024-09-26 21:23:38,945]-50-Directory artifacts/data_ingestion created\n",
      "[2024-09-26 21:23:39,159]-1278-Found credentials in shared credentials file: ~/.aws/credentials\n",
      "WineQT.zip\n"
     ]
    },
    {
     "name": "stderr",
     "output_type": "stream",
     "text": [
      "d:\\Wine_ML_AlGO\\WineQualityModel\\Wine\\lib\\site-packages\\urllib3\\connectionpool.py:1064: InsecureRequestWarning: Unverified HTTPS request is being made to host 'raishmumbaibucket.s3.ap-south-1.amazonaws.com'. Adding certificate verification is strongly advised. See: https://urllib3.readthedocs.io/en/1.26.x/advanced-usage.html#ssl-warnings\n",
      "  warnings.warn(\n",
      "d:\\Wine_ML_AlGO\\WineQualityModel\\Wine\\lib\\site-packages\\urllib3\\connectionpool.py:1064: InsecureRequestWarning: Unverified HTTPS request is being made to host 'raishmumbaibucket.s3.us-east-1.amazonaws.com'. Adding certificate verification is strongly advised. See: https://urllib3.readthedocs.io/en/1.26.x/advanced-usage.html#ssl-warnings\n",
      "  warnings.warn(\n",
      "d:\\Wine_ML_AlGO\\WineQualityModel\\Wine\\lib\\site-packages\\urllib3\\connectionpool.py:1064: InsecureRequestWarning: Unverified HTTPS request is being made to host 'raishmumbaibucket.s3.us-east-1.amazonaws.com'. Adding certificate verification is strongly advised. See: https://urllib3.readthedocs.io/en/1.26.x/advanced-usage.html#ssl-warnings\n",
      "  warnings.warn(\n"
     ]
    },
    {
     "name": "stdout",
     "output_type": "stream",
     "text": [
      "Extracted all files to artifacts/data_ingestion/\n",
      "[2024-09-26 21:23:42,805]-15-Loading the csv file artifacts/data_ingestion/WineQT.csv\n",
      "[2024-09-26 21:23:43,020]-19-splitting the Raw dataset\n"
     ]
    }
   ],
   "source": [
    "#step6)update the training pipeline file\n",
    "try:\n",
    "    #creating an object of configurationmanager class\n",
    "    cm = ConfigurationManager()\n",
    "\n",
    "    data_ingestion_config = cm.data_ingestion()\n",
    "\n",
    "    #creating an object of DataIngestion class\n",
    "    di = DataIngestion(ingestionconfig = data_ingestion_config)\n",
    "\n",
    "    di.train_test_data()\n",
    "\n",
    "\n",
    "except Exception as e:\n",
    "    raise CustomException(e,sys)"
   ]
  },
  {
   "cell_type": "code",
   "execution_count": null,
   "metadata": {},
   "outputs": [],
   "source": []
  },
  {
   "cell_type": "code",
   "execution_count": null,
   "metadata": {},
   "outputs": [],
   "source": []
  },
  {
   "cell_type": "code",
   "execution_count": null,
   "metadata": {},
   "outputs": [],
   "source": []
  },
  {
   "cell_type": "code",
   "execution_count": null,
   "metadata": {},
   "outputs": [],
   "source": []
  },
  {
   "cell_type": "code",
   "execution_count": null,
   "metadata": {},
   "outputs": [],
   "source": []
  },
  {
   "cell_type": "code",
   "execution_count": null,
   "metadata": {},
   "outputs": [],
   "source": []
  },
  {
   "cell_type": "code",
   "execution_count": null,
   "metadata": {},
   "outputs": [],
   "source": []
  },
  {
   "cell_type": "code",
   "execution_count": null,
   "metadata": {},
   "outputs": [],
   "source": []
  },
  {
   "cell_type": "code",
   "execution_count": null,
   "metadata": {},
   "outputs": [],
   "source": []
  },
  {
   "cell_type": "code",
   "execution_count": null,
   "metadata": {},
   "outputs": [],
   "source": []
  },
  {
   "cell_type": "code",
   "execution_count": null,
   "metadata": {},
   "outputs": [],
   "source": []
  }
 ],
 "metadata": {
  "kernelspec": {
   "display_name": "Python 3",
   "language": "python",
   "name": "python3"
  },
  "language_info": {
   "codemirror_mode": {
    "name": "ipython",
    "version": 3
   },
   "file_extension": ".py",
   "mimetype": "text/x-python",
   "name": "python",
   "nbconvert_exporter": "python",
   "pygments_lexer": "ipython3",
   "version": "3.9.16"
  }
 },
 "nbformat": 4,
 "nbformat_minor": 2
}

{
 "cells": [
  {
   "cell_type": "code",
   "execution_count": 1,
   "metadata": {},
   "outputs": [],
   "source": [
    "from src.Wine.Utils import create_directory,read_yaml,download_data_from_s3\n",
    "from src.Wine.loggers import logger\n",
    "from src.Wine.Exception import CustomException\n",
    "from src.Wine.Constants import *\n",
    "import os,sys\n",
    "from pathlib import Path\n",
    "from dataclasses import dataclass\n"
   ]
  },
  {
   "cell_type": "code",
   "execution_count": 2,
   "metadata": {},
   "outputs": [],
   "source": [
    "#step3)update the entity file --->is nothing we r defining the class variable\n",
    "#which was used in yaml file and futhure taking rtn as function\n",
    "\n",
    "@dataclass\n",
    "class DataValidationConfig():\n",
    "    #defining class variable along with dtypes\n",
    "    root_dir_path:Path\n",
    "    unzip_data_dir_path: Path\n",
    "    status_file: Path\n",
    "    all_schema:dict"
   ]
  },
  {
   "cell_type": "code",
   "execution_count": 3,
   "metadata": {},
   "outputs": [],
   "source": [
    "#step4)update the configuration Manager file\n",
    "#in this configuration manager file we r reading the yaml file and creating directories\n",
    "#and assgining value to class variable and taking returen as function\n",
    "\n",
    "class ConfigurationManager():\n",
    "    #creating constructor to initialize the instance variable\n",
    "    def __init__(self,config_filepath = CONFIG_FILEPATH,param_filepath=PARAM_FILEPATH,schema_filepath=SCHEMA_FILEPATH):\n",
    "        self.config = read_yaml(config_filepath) #rtn as configbox dictatonary\n",
    "        self.param =  read_yaml(param_filepath) #rtn as configbox dictionary\n",
    "        self.schema = read_yaml(schema_filepath) #rtn as configbox dictionary\n",
    "\n",
    "        #creating artifacts directory in the project structure\n",
    "        create_directory([self.config.artifacts_root]) #it will create artifacts directory\n",
    "\n",
    "    def get_data_validation(self) ->DataValidationConfig:\n",
    "        #initializing the local variable\n",
    "        config = self.config.data_validation\n",
    "        schema = self.schema\n",
    "\n",
    "        #creating directory data_validation\n",
    "        create_directory([config.root_dir_path])\n",
    "\n",
    "        #creating an object of DataValidationConfig class and assigning value to class variable\n",
    "        data_validation_config = DataValidationConfig(\n",
    "            root_dir_path=config.root_dir_path,\n",
    "            unzip_data_dir_path=config.unzip_data_dir_path,\n",
    "            status_file=config.status_file,\n",
    "            all_schema=schema.Columns\n",
    "        )\n",
    "        return data_validation_config\n"
   ]
  },
  {
   "cell_type": "code",
   "execution_count": 4,
   "metadata": {},
   "outputs": [],
   "source": [
    "import pandas as pd"
   ]
  },
  {
   "cell_type": "code",
   "execution_count": 5,
   "metadata": {},
   "outputs": [],
   "source": [
    "#step5)Updating the Component File here we r doing or initiating the data validation Process!!!\n",
    "#and also assigning the class variable as an object of (instance variable)\n",
    "class DataValidation():\n",
    "    def __init__(self,config:DataValidationConfig): #this config hold the value of DataValidationConfig class ki\n",
    "        self.config = config\n",
    "\n",
    "    def validating_all_column(self) ->bool:\n",
    "        try:\n",
    "            validation_status= None\n",
    "            logger.info(f\"Reading the Csv file {self.config.unzip_data_dir_path}\")\n",
    "            df = pd.read_csv(self.config.unzip_data_dir_path)   \n",
    "\n",
    "            #getting all the column from csv and storing them into lst object\n",
    "            lst_column = df.columns.to_list()\n",
    "\n",
    "            #fetching the column name from schema.yaml se\n",
    "            all_schema = self.config.all_schema.keys()\n",
    "\n",
    "            #now iterating column from lst_column and checking them it exist in all_schema or not\n",
    "            #or we can also validate the dtype of column also\n",
    "            for col in lst_column:\n",
    "                if col not in all_schema:\n",
    "                    validation_status=False\n",
    "                    with open(self.config.status_file,\"w\") as f:\n",
    "                        f.write(f\"Validation status: {validation_status}\")\n",
    "\n",
    "                else:\n",
    "                    validation_status=True\n",
    "                    with open(self.config.status_file,\"w\") as f:\n",
    "                        f.write(f\"Validation status: {validation_status}\")\n",
    "            return validation_status\n",
    "        \n",
    "        except Exception as e:\n",
    "            raise CustomException(e,sys)"
   ]
  },
  {
   "cell_type": "code",
   "execution_count": 6,
   "metadata": {},
   "outputs": [
    {
     "data": {
      "text/plain": [
       "'d:\\\\Wine_ML_AlGO\\\\WineQualityModel'"
      ]
     },
     "execution_count": 6,
     "metadata": {},
     "output_type": "execute_result"
    }
   ],
   "source": [
    "os.chdir('../')\n",
    "%pwd"
   ]
  },
  {
   "cell_type": "code",
   "execution_count": 7,
   "metadata": {},
   "outputs": [
    {
     "name": "stdout",
     "output_type": "stream",
     "text": [
      "[2024-09-26 18:19:16,051]-33-Reading yaml file config\\config.yaml\n",
      "[2024-09-26 18:19:16,058]-33-Reading yaml file param.yaml\n",
      "[2024-09-26 18:19:16,061]-33-Reading yaml file schema.yaml\n",
      "[2024-09-26 18:19:16,067]-46-Creating Directory\n",
      "[2024-09-26 18:19:16,068]-46-Creating Directory\n",
      "[2024-09-26 18:19:16,070]-10-Reading the Csv file artifacts/data_ingestion/WineQT.csv\n",
      "True\n"
     ]
    }
   ],
   "source": [
    "#step6:- training the pipeline\n",
    "try:\n",
    "    #creating an object of configuration manager class\n",
    "    cm = ConfigurationManager()\n",
    "    data_validation_config = cm.get_data_validation()\n",
    "\n",
    "    #creating an oject of Datavalidation class\n",
    "    dv = DataValidation(data_validation_config)\n",
    "\n",
    "    result = dv.validating_all_column()\n",
    "    print(result)\n",
    "    \n",
    "except Exception as e:\n",
    "    raise CustomException(e,sys)"
   ]
  },
  {
   "cell_type": "code",
   "execution_count": null,
   "metadata": {},
   "outputs": [],
   "source": []
  },
  {
   "cell_type": "code",
   "execution_count": null,
   "metadata": {},
   "outputs": [],
   "source": []
  },
  {
   "cell_type": "code",
   "execution_count": null,
   "metadata": {},
   "outputs": [],
   "source": []
  },
  {
   "cell_type": "code",
   "execution_count": null,
   "metadata": {},
   "outputs": [],
   "source": []
  },
  {
   "cell_type": "code",
   "execution_count": null,
   "metadata": {},
   "outputs": [],
   "source": []
  },
  {
   "cell_type": "code",
   "execution_count": null,
   "metadata": {},
   "outputs": [],
   "source": []
  },
  {
   "cell_type": "code",
   "execution_count": null,
   "metadata": {},
   "outputs": [],
   "source": []
  },
  {
   "cell_type": "code",
   "execution_count": null,
   "metadata": {},
   "outputs": [],
   "source": []
  }
 ],
 "metadata": {
  "kernelspec": {
   "display_name": "Python 3",
   "language": "python",
   "name": "python3"
  },
  "language_info": {
   "codemirror_mode": {
    "name": "ipython",
    "version": 3
   },
   "file_extension": ".py",
   "mimetype": "text/x-python",
   "name": "python",
   "nbconvert_exporter": "python",
   "pygments_lexer": "ipython3",
   "version": "3.9.16"
  }
 },
 "nbformat": 4,
 "nbformat_minor": 2
}
